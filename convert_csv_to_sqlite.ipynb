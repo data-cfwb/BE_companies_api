{
 "cells": [
  {
   "cell_type": "code",
   "execution_count": null,
   "metadata": {},
   "outputs": [],
   "source": [
    "import sqlite3\n",
    "import pandas as pd\n",
    "\n",
    "db = sqlite3.connect('banque_carrefour.sqlite')\n",
    "#\n",
    "# First get the csv sources files from https://kbopub.economie.fgov.be/kbo-open-data/login\n",
    "# You will need to login to get the csv files\n",
    "#\n",
    "# for each file in the folder, create a database and import the data into the database\n",
    "for file in os.listdir('./csv/'):\n",
    "    if file.endswith('.csv'):\n",
    "        print(file)\n",
    "        df = pd.read_csv(file)\n",
    "        df.to_sql(file.split('.')[0], db, if_exists='replace', index=False)\n",
    "        "
   ]
  }
 ],
 "metadata": {
  "kernelspec": {
   "display_name": "Python 3.10.6 64-bit",
   "language": "python",
   "name": "python3"
  },
  "language_info": {
   "name": "python",
   "version": "3.10.6"
  },
  "orig_nbformat": 4,
  "vscode": {
   "interpreter": {
    "hash": "b0fa6594d8f4cbf19f97940f81e996739fb7646882a419484c72d19e05852a7e"
   }
  }
 },
 "nbformat": 4,
 "nbformat_minor": 2
}
