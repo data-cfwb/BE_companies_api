{
 "cells": [
  {
   "cell_type": "code",
   "execution_count": null,
   "metadata": {},
   "outputs": [],
   "source": [
    "import sqlite3\n",
    "import pandas as pd"
   ]
  },
  {
   "cell_type": "code",
   "execution_count": null,
   "metadata": {},
   "outputs": [],
   "source": [
    "db = sqlite3.connect('../app/database/banque_carrefour.sqlite')\n",
    "\n",
    "path = \"../csv/\"\n",
    "# for each file in the folder, create a database and import the data into the database\n",
    "\n",
    "# for file in os.listdir(path):\n",
    "#     if file.endswith('.csv'):\n",
    "#         print(file)\n",
    "#         df = pd.read_csv(path + file, dtype = str)\n",
    "#         df.to_sql(file.split('.')[0], db, if_exists='replace', index=False)"
   ]
  }
 ],
 "metadata": {
  "language_info": {
   "name": "python"
  },
  "orig_nbformat": 4
 },
 "nbformat": 4,
 "nbformat_minor": 2
}
