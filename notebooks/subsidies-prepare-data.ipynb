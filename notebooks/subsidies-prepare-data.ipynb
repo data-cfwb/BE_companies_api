{
 "cells": [
  {
   "cell_type": "code",
   "execution_count": 13,
   "metadata": {},
   "outputs": [],
   "source": [
    "import sqlite3\n",
    "import pandas as pd"
   ]
  },
  {
   "cell_type": "code",
   "execution_count": 14,
   "metadata": {},
   "outputs": [
    {
     "name": "stderr",
     "output_type": "stream",
     "text": [
      "/var/folders/zn/0wszm2k93n1_tvmfqd8t1_sc0000gn/T/ipykernel_61749/2370718778.py:5: DtypeWarning: Columns (8) have mixed types. Specify dtype option on import or set low_memory=False.\n",
      "  df = pd.read_csv(path)\n"
     ]
    },
    {
     "data": {
      "text/plain": [
       "<sqlite3.Cursor at 0x14f3e0740>"
      ]
     },
     "execution_count": 14,
     "metadata": {},
     "output_type": "execute_result"
    }
   ],
   "source": [
    "db = sqlite3.connect('../app/database/banque_carrefour.sqlite')\n",
    "\n",
    "path = \"../csv/subsidies/subsides_tmp.csv.zip\"\n",
    "\n",
    "df = pd.read_csv(path)\n",
    "\n",
    "# rename n° BCE to EntityNumber\n",
    "df = df.rename(columns={'n° BCE': 'EnterpriseNumber'}) \n",
    "\n",
    "# if EnterpriseNumber len is 9, add 0 at the beginning\n",
    "df['EnterpriseNumber'] = df['EnterpriseNumber'].apply(lambda x: '0' + str(x) if len(str(x)) == 9 else str(x))\n",
    "\n",
    "# add . after 4th char and before 7th char\n",
    "df['EnterpriseNumber'] = df['EnterpriseNumber'].apply(lambda x: x[:4] + '.' + x[4:7] + '.' + x[7:])\n",
    "\n",
    "# df to db\n",
    "df.to_sql('subsidies', db, if_exists='replace', index=False)\n",
    "\n",
    "# add index for EntityNumber in subsidies table\n",
    "db.execute('CREATE INDEX IF NOT EXISTS idx_subsidies_EnterpriseNumber ON subsidies (EnterpriseNumber)')"
   ]
  }
 ],
 "metadata": {
  "kernelspec": {
   "display_name": "Python 3",
   "language": "python",
   "name": "python3"
  },
  "language_info": {
   "codemirror_mode": {
    "name": "ipython",
    "version": 3
   },
   "file_extension": ".py",
   "mimetype": "text/x-python",
   "name": "python",
   "nbconvert_exporter": "python",
   "pygments_lexer": "ipython3",
   "version": "3.11.2"
  },
  "orig_nbformat": 4
 },
 "nbformat": 4,
 "nbformat_minor": 2
}
