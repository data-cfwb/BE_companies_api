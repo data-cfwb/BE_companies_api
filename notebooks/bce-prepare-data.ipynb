{
 "cells": [
  {
   "cell_type": "code",
   "execution_count": null,
   "metadata": {},
   "outputs": [],
   "source": [
    "import sqlite3\n",
    "import pandas as pd\n",
    "import os"
   ]
  },
  {
   "cell_type": "code",
   "execution_count": null,
   "metadata": {},
   "outputs": [],
   "source": [
    "# First get the csv sources files from https://kbopub.economie.fgov.be/kbo-open-data/login\n",
    "# You will need to login to get the csv files\n",
    "path = \"../csv/bce/\"\n",
    "\n",
    "# for each csv file in the path directory convert it to zipped csv\n",
    "# and remove the original csv file\n",
    "for filename in os.listdir(path):\n",
    "    if filename.endswith(\".csv\"):\n",
    "        os.system(\"gzip \" + path + filename)\n"
   ]
  },
  {
   "cell_type": "code",
   "execution_count": null,
   "metadata": {},
   "outputs": [],
   "source": [
    "\n",
    "db = sqlite3.connect('../app/database/banque_carrefour.sqlite')\n",
    "\n",
    "# for each file in the folder, create a database and import the data into the database\n",
    "\n",
    "for file in os.listdir(path):\n",
    "    if file.endswith('.csv.gz'):\n",
    "        print(file)\n",
    "        df = pd.read_csv(path + file, dtype = str)\n",
    "        df.to_sql(file.split('.')[0], db, if_exists='replace', index=False)\n",
    "        "
   ]
  },
  {
   "cell_type": "code",
   "execution_count": null,
   "metadata": {},
   "outputs": [],
   "source": [
    "db = sqlite3.connect('../app/database/banque_carrefour.sqlite')\n",
    "\n",
    "# create index on EnterpriseNumber of enterprise\n",
    "db.execute(\"CREATE INDEX enterprise_number_index ON enterprise (EnterpriseNumber)\")\n",
    "\n",
    "# create index on EntityNumber of activity\n",
    "db.execute(\"CREATE INDEX activity_entity_number_index ON activity (EntityNumber, NaceCode)\")\n",
    "\n",
    "# create index on EntityNumber of address\n",
    "db.execute(\"CREATE INDEX address_entity_number_index ON address (EntityNumber)\")\n",
    "\n",
    "# create index on EnterpriseNumber of branch\n",
    "db.execute(\"CREATE INDEX branch_enterprise_number_index ON branch (EnterpriseNumber)\")\n",
    "\n",
    "# create index on Code of code\n",
    "db.execute(\"CREATE INDEX code_index ON code (Code)\")\n",
    "\n",
    "# create index on EntityNumber of contact\n",
    "db.execute(\"CREATE INDEX contact_entity_number_index ON contact (EntityNumber)\")\n",
    "\n",
    "# create index on EntityNumber of denomination\n",
    "db.execute(\"CREATE INDEX denomination_entity_number_index ON denomination (EntityNumber)\")\n",
    "\n",
    "# create index on Denomination of denomination\n",
    "db.execute(\"CREATE INDEX denomination_denomination_index ON denomination (Denomination)\")\n",
    "\n",
    "# create index on EnterpriseNumber of establishment\n",
    "db.execute(\"CREATE INDEX establishment_enterprise_number_index ON establishment (EnterpriseNumber)\")\n"
   ]
  },
  {
   "cell_type": "code",
   "execution_count": null,
   "metadata": {},
   "outputs": [],
   "source": [
    "# improve read performance by pragma settings\n",
    "db.execute('PRAGMA synchronous = OFF')\n",
    "db.execute('PRAGMA journal_mode = MEMORY')\n",
    "db.execute('PRAGMA temp_store = MEMORY')\n",
    "db.execute('PRAGMA locking_mode = EXCLUSIVE')\n",
    "db.execute('PRAGMA auto_vacuum = FULL')\n",
    "\n",
    "# VACUUM; \n",
    "db.execute('VACUUM;')\n",
    "\n",
    "# create a cursor to execute queries\n",
    "cursor = db.cursor()\n",
    "\n",
    "# close the database\n",
    "db.close()"
   ]
  }
 ],
 "metadata": {
  "kernelspec": {
   "display_name": "Python 3.10.6 64-bit",
   "language": "python",
   "name": "python3"
  },
  "language_info": {
   "codemirror_mode": {
    "name": "ipython",
    "version": 3
   },
   "file_extension": ".py",
   "mimetype": "text/x-python",
   "name": "python",
   "nbconvert_exporter": "python",
   "pygments_lexer": "ipython3",
   "version": "3.11.5"
  },
  "vscode": {
   "interpreter": {
    "hash": "b0fa6594d8f4cbf19f97940f81e996739fb7646882a419484c72d19e05852a7e"
   }
  }
 },
 "nbformat": 4,
 "nbformat_minor": 2
}
