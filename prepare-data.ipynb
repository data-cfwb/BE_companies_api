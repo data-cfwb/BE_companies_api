{
 "cells": [
  {
   "cell_type": "code",
   "execution_count": 11,
   "metadata": {},
   "outputs": [
    {
     "name": "stdout",
     "output_type": "stream",
     "text": [
      "denomination.csv\n",
      "branch.csv\n",
      "activity.csv\n",
      "establishment.csv\n",
      "address.csv\n",
      "contact.csv\n",
      "meta.csv\n",
      "code.csv\n",
      "enterprise.csv\n"
     ]
    }
   ],
   "source": [
    "import sqlite3\n",
    "import pandas as pd\n",
    "\n",
    "db = sqlite3.connect('./app/database/banque_carrefour.sqlite')\n",
    "\n",
    "# First get the csv sources files from https://kbopub.economie.fgov.be/kbo-open-data/login\n",
    "# You will need to login to get the csv files\n",
    "path = \"/Users/martin/Downloads/KboOpenData_0105_2022_11_Full/\"\n",
    "#\n",
    "# for each file in the folder, create a database and import the data into the database\n",
    "\n",
    "for file in os.listdir(path):\n",
    "    if file.endswith('.csv'):\n",
    "        print(file)\n",
    "        df = pd.read_csv(path + file, dtype = str)\n",
    "        # if name of the columns contains a Date then convert the column to a date in format DD/MM/YYYY\n",
    "        # for col in df.columns:\n",
    "        #     if 'Date' in col:\n",
    "        #         df[col] = pd.to_datetime(df[col], format='%d/%m/%Y', errors = 'coerce')\n",
    "        df.to_sql(file.split('.')[0], db, if_exists='replace', index=False)\n",
    "        "
   ]
  },
  {
   "cell_type": "code",
   "execution_count": 12,
   "metadata": {},
   "outputs": [
    {
     "data": {
      "text/plain": [
       "<sqlite3.Cursor at 0x11d5de3c0>"
      ]
     },
     "execution_count": 12,
     "metadata": {},
     "output_type": "execute_result"
    }
   ],
   "source": [
    "db = sqlite3.connect('./app/database/banque_carrefour.sqlite')\n",
    "\n",
    "# create index on EnterpriseNumber of enterprise\n",
    "db.execute(\"CREATE INDEX enterprise_number_index ON enterprise (EnterpriseNumber)\")\n",
    "\n",
    "# create index on EntityNumber of activity\n",
    "db.execute(\"CREATE INDEX activity_entity_number_index ON activity (EntityNumber)\")\n",
    "\n",
    "# create index on EntityNumber of address\n",
    "db.execute(\"CREATE INDEX address_entity_number_index ON address (EntityNumber)\")\n",
    "\n",
    "# create index on EnterpriseNumber of branch\n",
    "db.execute(\"CREATE INDEX branch_enterprise_number_index ON branch (EnterpriseNumber)\")\n",
    "\n",
    "# create index on Code of code\n",
    "db.execute(\"CREATE INDEX code_index ON code (Code)\")\n",
    "\n",
    "# create index on EntityNumber of contact\n",
    "db.execute(\"CREATE INDEX contact_entity_number_index ON contact (EntityNumber)\")\n",
    "\n",
    "# create index on EntityNumber of denomination\n",
    "db.execute(\"CREATE INDEX denomination_entity_number_index ON denomination (EntityNumber)\")\n",
    "\n",
    "# create index on EnterpriseNumber of establishment\n",
    "db.execute(\"CREATE INDEX establishment_enterprise_number_index ON establishment (EnterpriseNumber)\")\n"
   ]
  },
  {
   "cell_type": "code",
   "execution_count": 13,
   "metadata": {},
   "outputs": [],
   "source": [
    "# improve read performance by pragma settings\n",
    "db.execute('PRAGMA synchronous = OFF')\n",
    "db.execute('PRAGMA journal_mode = MEMORY')\n",
    "db.execute('PRAGMA temp_store = MEMORY')\n",
    "db.execute('PRAGMA locking_mode = EXCLUSIVE')\n",
    "db.execute('PRAGMA auto_vacuum = FULL')\n",
    "\n",
    "# VACUUM; \n",
    "db.execute('VACUUM;')\n",
    "\n",
    "# create a cursor to execute queries\n",
    "cursor = db.cursor()\n",
    "\n",
    "# close the database\n",
    "db.close()"
   ]
  }
 ],
 "metadata": {
  "kernelspec": {
   "display_name": "Python 3.10.6 64-bit",
   "language": "python",
   "name": "python3"
  },
  "language_info": {
   "codemirror_mode": {
    "name": "ipython",
    "version": 3
   },
   "file_extension": ".py",
   "mimetype": "text/x-python",
   "name": "python",
   "nbconvert_exporter": "python",
   "pygments_lexer": "ipython3",
   "version": "3.10.8"
  },
  "orig_nbformat": 4,
  "vscode": {
   "interpreter": {
    "hash": "b0fa6594d8f4cbf19f97940f81e996739fb7646882a419484c72d19e05852a7e"
   }
  }
 },
 "nbformat": 4,
 "nbformat_minor": 2
}
